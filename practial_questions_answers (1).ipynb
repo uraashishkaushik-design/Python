{
  "nbformat": 4,
  "nbformat_minor": 0,
  "metadata": {
    "colab": {
      "provenance": []
    },
    "kernelspec": {
      "name": "python3",
      "display_name": "Python 3"
    },
    "language_info": {
      "name": "python"
    }
  },
  "cells": [
    {
      "cell_type": "markdown",
      "source": [
        "# 1. What is Python, and why is it popular?\n",
        "Answer :- Python is a high-level, simple, and powerful programming language.\n",
        "Why popular?\n",
        "\n",
        "Easy to learn and read\n",
        "Huge library support\n",
        "\n",
        "Works on all platforms\n",
        "\n",
        "Used in AI, Web, Data Science, etc.\n",
        "\n",
        "# 2. What is an interpreter in Python?\n",
        "\n",
        "Answer:- An interpreter in Python is a program that executes Python code line by line, translating each line into machine code and running it immediately. This allows for interactive coding and quick testing without the need for prior compilation.\n",
        "\n",
        "# 3. What are pre-defined keywords in Python?\n",
        "\n",
        "Answer:- Keywords are reserved words that have special meaning in Python (e.g., if, while, for, True, False).\n",
        "We cannot use them as variable names.\n",
        "\n",
        "# 4. Can keywords be used as variable names?\n",
        "\n",
        "Answer:- No. Keywords cannot be used as variable names.\n",
        "\n",
        "# 5. What is mutability in Python?\n",
        "\n",
        "Answer:- Mutability in Python refers to whether an object’s value can be changed after it is created.\n",
        "\n",
        "Mutable: Can be changed (e.g., list, dict, set)\n",
        "\n",
        "Immutable: Cannot be changed (e.g., int, str, tuple)\n",
        "\n",
        "# 6. Why are lists mutable, but tuples are immutable?\n",
        "\n",
        "Answer:- Because lists are designed to allow element modification.\n",
        "Tuples are fixed (read-only) and cannot be changed once created.\n",
        "\n",
        "# 7. What is the difference between == and is operators in Python?\n",
        "\n",
        "Answer:- Checks if values are equal.\n",
        "\n",
        "-  Checks if both variables point to the same memory location.\n",
        "\n",
        "# 8. What are logical operators in Python?\n",
        "\n",
        "Answer:- Three logical operators:\n",
        "\n",
        " - True if both conditions are True\n",
        "\n",
        " - True if at least one condition is True\n",
        "\n",
        " - Reverses the result\n",
        "\n",
        "# 9. What is type casting in Python?\n",
        "\n",
        "Answer:-Type casting in Python means converting a value from one data type to another.\n",
        "# 10. What is the difference between implicit and explicit type casting?\n",
        "\n",
        "Implicit casting: Python automatically converts (e.g., 3 + 2.5 = 5.5).\n",
        "\n",
        "Explicit casting: We manually convert (e.g., int(\"7\")).\n",
        "\n",
        "# 11. What is the purpose of conditional statements in Python?\n",
        "\n",
        "Answer:- Conditional statements (if, elif, else) are used for decision-making in a program.\n",
        "\n",
        "# 12. How does the elif statement work?\n",
        "\n",
        "Answer:- elif (else-if) is used for multiple conditions.\n",
        "The first condition that is True will execute, others will be skipped.\n",
        "\n",
        "# 13. What is the difference between for and while loops?\n",
        "\n",
        " Answer:-'for' loop: Used to iterate over a sequence (like a list, tuple, string, or range) a known number of times.\n",
        "\n",
        "# 14. Describe a scenario where a while loop is more suitable than a for loop.\n",
        "\n",
        "Answer:- Asking the user for input until they type \"exit\".\n",
        "We don’t know how many times input will be given, so a while loop is better."
      ],
      "metadata": {
        "id": "wrcm0UxpuEXz"
      }
    },
    {
      "cell_type": "markdown",
      "source": [
        "# **Practial** **Questions**"
      ],
      "metadata": {
        "id": "fSpa-dexRqii"
      }
    },
    {
      "cell_type": "markdown",
      "source": [
        "# 1.Write a Python program to print \"Hello, World!\""
      ],
      "metadata": {
        "id": "07Eh03qGeoKR"
      }
    },
    {
      "cell_type": "code",
      "execution_count": null,
      "metadata": {
        "colab": {
          "base_uri": "https://localhost:8080/"
        },
        "id": "XgFpw9wTemFJ",
        "outputId": "bbdd1b55-18a0-46c4-f183-936d9fa5eb57"
      },
      "outputs": [
        {
          "output_type": "stream",
          "name": "stdout",
          "text": [
            "Hello World!\n"
          ]
        }
      ],
      "source": [
        "a=(\"Hello World!\")\n",
        "print(a)"
      ]
    },
    {
      "cell_type": "markdown",
      "source": [
        "# 2.Write a python program that displays your name and age\n"
      ],
      "metadata": {
        "id": "DCqfODVlf9qJ"
      }
    },
    {
      "cell_type": "code",
      "source": [
        "name=\"Aashish\"\n",
        "age=\"21\"\n",
        "print(\"my name is\", name)\n",
        "print(\"i am\",age,\"years old\")\n"
      ],
      "metadata": {
        "colab": {
          "base_uri": "https://localhost:8080/"
        },
        "id": "JeFZGyxIe2Pz",
        "outputId": "3393b804-dbfe-4f72-8ad4-df5eb9d391ff"
      },
      "execution_count": null,
      "outputs": [
        {
          "output_type": "stream",
          "name": "stdout",
          "text": [
            "my name is Aashish\n",
            "i am 21 years old\n"
          ]
        }
      ]
    },
    {
      "cell_type": "markdown",
      "source": [
        "# 3. write code to print all the pre-defined keywords in python using the keyword library."
      ],
      "metadata": {
        "id": "9CYQzFEQg8bc"
      }
    },
    {
      "cell_type": "code",
      "source": [
        "# program to print all pre-defined keywords in python\n",
        "import keyword\n",
        "\n",
        "print(\"List of python keywords:\\n\")\n",
        "\n",
        "for kw in keyword.kwlist:\n",
        "    print(kw)\n",
        "\n",
        "print(\"\\nTotal number of keywords in python:\", len(keyword.kwlist))\n"
      ],
      "metadata": {
        "colab": {
          "base_uri": "https://localhost:8080/"
        },
        "id": "zN62xjB8g6Do",
        "outputId": "569840b0-f98f-4853-9a90-cb563818fee5"
      },
      "execution_count": null,
      "outputs": [
        {
          "output_type": "stream",
          "name": "stdout",
          "text": [
            "List of python keywords:\n",
            "\n",
            "False\n",
            "None\n",
            "True\n",
            "and\n",
            "as\n",
            "assert\n",
            "async\n",
            "await\n",
            "break\n",
            "class\n",
            "continue\n",
            "def\n",
            "del\n",
            "elif\n",
            "else\n",
            "except\n",
            "finally\n",
            "for\n",
            "from\n",
            "global\n",
            "if\n",
            "import\n",
            "in\n",
            "is\n",
            "lambda\n",
            "nonlocal\n",
            "not\n",
            "or\n",
            "pass\n",
            "raise\n",
            "return\n",
            "try\n",
            "while\n",
            "with\n",
            "yield\n",
            "\n",
            "Total number of keywords in python: 35\n"
          ]
        }
      ]
    },
    {
      "cell_type": "markdown",
      "source": [
        "# 4.Write a program that checks if a given word is a python keyword."
      ],
      "metadata": {
        "id": "cWQPj7NHjjsY"
      }
    },
    {
      "cell_type": "code",
      "source": [
        "import keyword\n",
        "\n",
        "word = input(\"Enter a word: \")\n",
        "\n",
        "if keyword.iskeyword(word):\n",
        "    print(f'\"{word}\" is a Python keyword.')\n",
        "else:\n",
        "    print(f'\"{word}\" is not a Python keyword.')\n"
      ],
      "metadata": {
        "colab": {
          "base_uri": "https://localhost:8080/"
        },
        "id": "oy9mdrXXh8uO",
        "outputId": "e3e56e43-1372-47b3-9219-590685b04afe"
      },
      "execution_count": null,
      "outputs": [
        {
          "output_type": "stream",
          "name": "stdout",
          "text": [
            "Enter a word: for\n",
            "\"for\" is a Python keyword.\n"
          ]
        }
      ]
    },
    {
      "cell_type": "markdown",
      "source": [
        "# 5.Create a list and tuple in python, and demonstrate how attempting to change an element works differently for each."
      ],
      "metadata": {
        "id": "GfxFyMQ1qvBJ"
      }
    },
    {
      "cell_type": "code",
      "source": [
        "# List (mutable)\n",
        "my_list = [1, 2, 3]\n",
        "my_list[0] = 10\n",
        "print(\"Modified List:\", my_list)\n",
        "\n",
        "# Tuple (immutable)\n",
        "my_tuple = (1, 2, 3)\n",
        "try:\n",
        "    my_tuple[0] = 10\n",
        "except TypeError:\n",
        "    print(\"Cannot modify tuple\")\n"
      ],
      "metadata": {
        "colab": {
          "base_uri": "https://localhost:8080/"
        },
        "id": "zW0Ihg-zoG85",
        "outputId": "3a494a68-267c-4c5c-bb8f-ea7eaf6a4e80"
      },
      "execution_count": null,
      "outputs": [
        {
          "output_type": "stream",
          "name": "stdout",
          "text": [
            "Modified List: [10, 2, 3]\n",
            "Cannot modify tuple\n"
          ]
        }
      ]
    },
    {
      "cell_type": "markdown",
      "source": [
        "## 6.Write a function to demonstrate the behavior of mutable and immutable arguments"
      ],
      "metadata": {
        "id": "1UFB-wxxDYug"
      }
    },
    {
      "cell_type": "code",
      "source": [
        "def test_arguments(x,y):\n",
        "#Try changing both\n",
        "   x=x+5\n",
        "   y.append(10)\n",
        "\n",
        "#Example\n",
        "a=15\n",
        "b=[1,2,3]\n",
        "print(\"Before function call:\",a,b)\n",
        "test_arguments(a,b)\n",
        "print(\"After function call:\",a,b)\n"
      ],
      "metadata": {
        "colab": {
          "base_uri": "https://localhost:8080/"
        },
        "id": "bkruOjl4rzJs",
        "outputId": "d4b6a264-faa3-40d7-dc62-200516227f99"
      },
      "execution_count": null,
      "outputs": [
        {
          "output_type": "stream",
          "name": "stdout",
          "text": [
            "Before function call: 15 [1, 2, 3]\n",
            "After function call: 15 [1, 2, 3, 10]\n"
          ]
        }
      ]
    },
    {
      "cell_type": "markdown",
      "source": [
        "# 7.Write a program that performs basic arithmetic operations on two user-input numbers."
      ],
      "metadata": {
        "id": "WFfC0VlHD_rf"
      }
    },
    {
      "cell_type": "code",
      "source": [
        "# program to perform basic arithmetic operations\n",
        "\n",
        "a = int(input(\"Enter first number: \"))\n",
        "b = int(input(\"Enter second number: \"))\n",
        "\n",
        "print(\"Addition:\", a + b)\n",
        "print(\"Subtraction:\", a - b)\n",
        "print(\"Multiplication:\", a * b)\n",
        "\n",
        "# divide karte waqt zero check\n",
        "if b != 0:\n",
        "    print(\"Division:\", a / b)\n",
        "else:\n",
        "    print(\"Division: Not possible (cannot divide by zero)\")\n"
      ],
      "metadata": {
        "colab": {
          "base_uri": "https://localhost:8080/"
        },
        "id": "sI8iMfl2DjqW",
        "outputId": "ef2a51de-185d-422b-d5a3-8572139d05bd"
      },
      "execution_count": null,
      "outputs": [
        {
          "output_type": "stream",
          "name": "stdout",
          "text": [
            "Enter first number: 5\n",
            "Enter second number: 10\n",
            "Addition: 15\n",
            "Subtraction: -5\n",
            "Multiplication: 50\n",
            "Division: 0.5\n"
          ]
        }
      ]
    },
    {
      "cell_type": "markdown",
      "source": [],
      "metadata": {
        "id": "9VdFpjCMFjeQ"
      }
    },
    {
      "cell_type": "markdown",
      "source": [
        "# 8.Write a program to demonstrate the use of logical operators"
      ],
      "metadata": {
        "id": "UevsHjOAEdLu"
      }
    },
    {
      "cell_type": "code",
      "source": [
        "# program to demonstrate logical operators\n",
        "\n",
        "a = True\n",
        "b = False\n",
        "\n",
        "print(\"a and b =\", a and b)   # dono True hone par hi True\n",
        "print(\"a or b  =\", a or b)    # koi ek True ho to True\n",
        "print(\"not a   =\", not a)     # value ko ulta kar deta hai\n"
      ],
      "metadata": {
        "colab": {
          "base_uri": "https://localhost:8080/"
        },
        "id": "L9v7p34yEIyv",
        "outputId": "1b2a8e96-f400-49f7-e339-932001a6f6d5"
      },
      "execution_count": null,
      "outputs": [
        {
          "output_type": "stream",
          "name": "stdout",
          "text": [
            "a and b = False\n",
            "a or b  = True\n",
            "not a   = False\n"
          ]
        }
      ]
    },
    {
      "cell_type": "markdown",
      "source": [
        "# 9.Write a python program to convert user input from string to interger,floot,and boolean types."
      ],
      "metadata": {
        "id": "Kf-Sy-dAFDHV"
      }
    },
    {
      "cell_type": "code",
      "source": [
        "# short program to convert user input\n",
        "s = input(\"Enter a value: \")\n",
        "\n",
        "print(\"Integer:\", int(s))\n",
        "print(\"Float  :\", float(s))\n",
        "print(\"Boolean:\", bool(s))\n"
      ],
      "metadata": {
        "colab": {
          "base_uri": "https://localhost:8080/"
        },
        "id": "2Ta_xSt6Ek33",
        "outputId": "1e67137e-a5ba-4cc5-a5d2-ad08e4011526"
      },
      "execution_count": null,
      "outputs": [
        {
          "output_type": "stream",
          "name": "stdout",
          "text": [
            "Enter a value: 5\n",
            "Integer: 5\n",
            "Float  : 5.0\n",
            "Boolean: True\n"
          ]
        }
      ]
    },
    {
      "cell_type": "markdown",
      "source": [
        "# 10.Write code to demonstrate type costing with list elements"
      ],
      "metadata": {
        "id": "zxnaCVejGKJF"
      }
    },
    {
      "cell_type": "code",
      "source": [
        "str_list = ['1', '2', '3']\n",
        "\n",
        "# हर element को string से int में convert करना\n",
        "int_list = [int(x) for x in str_list]\n",
        "\n",
        "print(\"Converted List:\", int_list)\n"
      ],
      "metadata": {
        "colab": {
          "base_uri": "https://localhost:8080/"
        },
        "id": "_qGx3HKmGWJG",
        "outputId": "afc340eb-65f5-45f0-ede5-cd49b314ce06"
      },
      "execution_count": null,
      "outputs": [
        {
          "output_type": "stream",
          "name": "stdout",
          "text": [
            "Converted List: [1, 2, 3]\n"
          ]
        }
      ]
    },
    {
      "cell_type": "markdown",
      "source": [
        "# 11.Write a program that checks if a number is positive , negative,or zero."
      ],
      "metadata": {
        "id": "p-Vd0zm3AgM1"
      }
    },
    {
      "cell_type": "code",
      "source": [
        "# Program to check if a number is positive, negative, or zero\n",
        "\n",
        "# Take input from the user\n",
        "num = float(input(\"Enter a number: \"))\n",
        "\n",
        "# Check conditions\n",
        "if num > 0:\n",
        "    print(\"The number is Positive.\")\n",
        "elif num < 0:\n",
        "    print(\"The number is Negative.\")\n",
        "else:\n",
        "    print(\"The number is Zero.\")\n"
      ],
      "metadata": {
        "colab": {
          "base_uri": "https://localhost:8080/"
        },
        "id": "reoo39nzGYuq",
        "outputId": "832242a8-ce24-4c7b-ae67-8062b83596e8"
      },
      "execution_count": null,
      "outputs": [
        {
          "output_type": "stream",
          "name": "stdout",
          "text": [
            "Enter a number: 5\n",
            "The number is Positive.\n"
          ]
        }
      ]
    },
    {
      "cell_type": "markdown",
      "source": [
        "# 12.Write a for loop to print number from 1 to 10."
      ],
      "metadata": {
        "id": "XjfTN2rgA3vj"
      }
    },
    {
      "cell_type": "code",
      "source": [
        "# Program to print numbers from 1 to 10\n",
        "\n",
        "for a in range(1, 10):\n",
        "    print(a)\n"
      ],
      "metadata": {
        "colab": {
          "base_uri": "https://localhost:8080/"
        },
        "id": "B8XO0_ZGAncW",
        "outputId": "905fd914-9769-409e-8715-f35eae138505"
      },
      "execution_count": null,
      "outputs": [
        {
          "output_type": "stream",
          "name": "stdout",
          "text": [
            "1\n",
            "2\n",
            "3\n",
            "4\n",
            "5\n",
            "6\n",
            "7\n",
            "8\n",
            "9\n"
          ]
        }
      ]
    },
    {
      "cell_type": "markdown",
      "source": [
        "# 13. Write a python program to find the sum of all even number between 1 and 50"
      ],
      "metadata": {
        "id": "48GXn_4ZBhFe"
      }
    },
    {
      "cell_type": "code",
      "source": [
        "# Program to find the sum of all even numbers between 1 and 50\n",
        "\n",
        "# Initialize sum variable\n",
        "total = 0\n",
        "\n",
        "# Loop through numbers from 1 to 50\n",
        "for a in range(1, 51):\n",
        "    if a % 2 == 0:   # check if number is even\n",
        "        total += a   # add even number to total\n",
        "\n",
        "# Print the result\n",
        "print(\"Sum of even numbers between 1 and 50 is:\", total)\n"
      ],
      "metadata": {
        "colab": {
          "base_uri": "https://localhost:8080/"
        },
        "id": "5bekswyaBth1",
        "outputId": "dfaee9cf-6a85-4fc5-8e4b-d01f6d7f43e6"
      },
      "execution_count": null,
      "outputs": [
        {
          "output_type": "stream",
          "name": "stdout",
          "text": [
            "Sum of even numbers between 1 and 50 is: 650\n"
          ]
        }
      ]
    },
    {
      "cell_type": "markdown",
      "source": [
        "14. Write a program to reverse a string using a while loop."
      ],
      "metadata": {
        "id": "i_ctu1XqxkMr"
      }
    },
    {
      "cell_type": "code",
      "source": [
        "text = \"Hello\"\n",
        "reversed_text = \"\"\n",
        "\n",
        "i = len(text) - 1\n",
        "\n",
        "while i >= 0:\n",
        "    reversed_text = reversed_text + text[i]\n",
        "    i = i - 1\n",
        "\n",
        "print(\"Original String:\", text)\n",
        "print(\"Reversed String:\", reversed_text)\n"
      ],
      "metadata": {
        "colab": {
          "base_uri": "https://localhost:8080/"
        },
        "id": "Qwe3O16FBv29",
        "outputId": "87035ebf-9981-4150-adf6-89b27ed48c44"
      },
      "execution_count": null,
      "outputs": [
        {
          "output_type": "stream",
          "name": "stdout",
          "text": [
            "Original String: Hello\n",
            "Reversed String: olleH\n"
          ]
        }
      ]
    },
    {
      "cell_type": "markdown",
      "source": [
        "# 15.Write a python program to calvulate the factorial of a number provided by the user using a while loop"
      ],
      "metadata": {
        "id": "7hwBaK87qs2G"
      }
    },
    {
      "cell_type": "code",
      "source": [
        "num = int(input(\"Enter a number: \"))\n",
        "fact = 1\n",
        "i = 1\n",
        "\n",
        "while i <= num:\n",
        "    fact = fact * i\n",
        "    i = i + 1\n",
        "\n",
        "print(\"Factorial of\", num, \"is:\", fact)\n"
      ],
      "metadata": {
        "colab": {
          "base_uri": "https://localhost:8080/"
        },
        "id": "NGUKpX8oqGEc",
        "outputId": "6668f194-0be4-4d99-caf4-a214b6fe8133"
      },
      "execution_count": null,
      "outputs": [
        {
          "output_type": "stream",
          "name": "stdout",
          "text": [
            "Enter a number: 6\n",
            "Factorial of 6 is: 720\n"
          ]
        }
      ]
    },
    {
      "cell_type": "code",
      "source": [],
      "metadata": {
        "id": "_ItqOBJGq3yA"
      },
      "execution_count": null,
      "outputs": []
    }
  ]
}